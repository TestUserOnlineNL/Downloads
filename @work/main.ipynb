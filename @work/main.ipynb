{
 "cells": [
  {
   "cell_type": "markdown",
   "metadata": {
    "isInteractiveWindowMessageCell": true
   },
   "source": [
    "Connected to Python"
   ]
  },
  {
   "cell_type": "code",
   "execution_count": 2,
   "metadata": {},
   "outputs": [
    {
     "name": "stdout",
     "output_type": "stream",
     "text": [
      "Lorem ipsum dolor sit amet,\n",
      "consectetur adipiscing elit,\n",
      "sed do eiusmod tempor incididunt\n",
      "ut labore et dolore magna aliqua.\n",
      "\n",
      "H\n",
      "b\n",
      "a\n",
      "n\n",
      "a\n",
      "n\n",
      "a\n",
      "True\n",
      "Yes, 'free' is present.\n",
      "No, 'expensive' is NOT present.\n",
      "llo\n",
      "Hello\n",
      "llo, World!\n",
      "orl\n",
      "My name is crashtestopa, and i am 55 years old.\n",
      "b'My name is St\\\\xe5le'\n",
      "['brood', 'halvarine', 'beleg', 'koffie']\n",
      "['brood', 'halvarine', 'beleg', 'koffie', 'kaas']\n",
      "['brood', 'halvarine', 'koffie', 'kaas']\n",
      "['brood', 'kaas', 'koffie']\n",
      "3\n",
      "['cherry', 'orange', 'kiwi']\n",
      "Yes, 'apple' is in the fruits list\n",
      "apple\n",
      "banana\n",
      "cherry\n",
      "\n",
      "apple\n",
      "banana\n",
      "cherry\n",
      "['apple', 'banana', 'mango']\n",
      "['apple', 'orange', 'cherry', 'kiwi', 'mango']\n"
     ]
    }
   ],
   "source": [
    "\"\"\" STRING examples\"\"\"\n",
    "#\n",
    "a = '''Lorem ipsum dolor sit amet,\n",
    "consectetur adipiscing elit,\n",
    "sed do eiusmod tempor incididunt\n",
    "ut labore et dolore magna aliqua.'''\n",
    "print(a);\n",
    "#\n",
    "print();\n",
    "#\n",
    "a = \"Hello, World!\";\n",
    "print(a[0]);\n",
    "#\n",
    "for x in \"banana\":\n",
    "  print(x);\n",
    "#\n",
    "txt = \"The best things in life are free!\"\n",
    "print(\"free\" in txt)\n",
    "#\n",
    "txt = \"The best things in life are free!\"\n",
    "if \"free\" in txt:\n",
    "  print(\"Yes, 'free' is present.\")\n",
    "#\n",
    "txt = \"The best things in life are free!\"\n",
    "if \"expensive\" not in txt:\n",
    "  print(\"No, 'expensive' is NOT present.\")\n",
    "#\n",
    "b = \"Hello, World!\"\n",
    "print(b[2:5])\n",
    "#\n",
    "b = \"Hello, World!\"\n",
    "print(b[:5])\n",
    "#\n",
    "b = \"Hello, World!\"\n",
    "print(b[2:])\n",
    "#\n",
    "b = \"Hello, World!\"\n",
    "print(b[-5:-2])\n",
    "#\n",
    "age = 55\n",
    "name = \"crashtestopa\"\n",
    "text= \"My name is {}, and i am {} years old.\"\n",
    "print(text.format(name, age))\n",
    "#\n",
    "txt = \"My name is Ståle\"\n",
    "print(txt.encode(encoding=\"ascii\",errors=\"backslashreplace\"))\n",
    "\"\"\" ARRAY examples\"\"\"\n",
    "#\n",
    "myList = [\"brood\",\"halvarine\", \"beleg\",\"koffie\"]\n",
    "print(myList)\n",
    "#\n",
    "myList.append(\"kaas\")\n",
    "print(myList)\n",
    "myList.pop(2)\n",
    "print(myList)\n",
    "#\n",
    "myList.remove(\"halvarine\")\n",
    "myList.sort()\n",
    "print(myList)\n",
    "#\n",
    "print(len(myList))\n",
    "#\n",
    "thislist = [\"apple\", \"banana\", \"cherry\", \"orange\", \"kiwi\", \"melon\", \"mango\"]\n",
    "print(thislist[2:5])\n",
    "#\n",
    "thislist = [\"apple\", \"banana\", \"cherry\"]\n",
    "if \"apple\" in thislist:\n",
    "  print(\"Yes, 'apple' is in the fruits list\")\n",
    "#\n",
    "thislist = [\"apple\", \"banana\", \"cherry\"]\n",
    "for i in range(len(thislist)):\n",
    "  print(thislist[i])\n",
    "print()\n",
    "#\n",
    "thislist = [\"apple\", \"banana\", \"cherry\"]\n",
    "[print(x) for x in thislist]\n",
    "#\n",
    "fruits = [\"apple\", \"banana\", \"cherry\", \"kiwi\", \"mango\"]\n",
    "newlist = [x for x in fruits if \"a\" in x]\n",
    "print(newlist)\n",
    "#\n",
    "newList = [x if x != \"banana\" else \"orange\" for x in fruits]\n",
    "print(newList)"
   ]
  },
  {
   "cell_type": "markdown",
   "metadata": {
    "isInteractiveWindowMessageCell": true
   },
   "source": [
    "Restarted Python"
   ]
  },
  {
   "cell_type": "code",
   "execution_count": 3,
   "metadata": {},
   "outputs": [
    {
     "name": "stdout",
     "output_type": "stream",
     "text": [
      "['banana', 'kiwi', 'mango', 'orange', 'pineapple']\n"
     ]
    }
   ],
   "source": [
    "thislist = [\"orange\", \"mango\", \"kiwi\", \"pineapple\", \"banana\"]\n",
    "thislist.sort()\n",
    "print(thislist)"
   ]
  },
  {
   "cell_type": "markdown",
   "metadata": {
    "isInteractiveWindowMessageCell": true
   },
   "source": [
    "Restarted Python"
   ]
  },
  {
   "cell_type": "code",
   "execution_count": 4,
   "metadata": {},
   "outputs": [
    {
     "name": "stdout",
     "output_type": "stream",
     "text": [
      "[23, 50, 65, 82, 100]\n"
     ]
    }
   ],
   "source": [
    "thislist = [100, 50, 65, 82, 23]\n",
    "thislist.sort()\n",
    "print(thislist)"
   ]
  },
  {
   "cell_type": "code",
   "execution_count": 5,
   "metadata": {},
   "outputs": [
    {
     "name": "stdout",
     "output_type": "stream",
     "text": [
      "[100, 82, 65, 50, 23]\n"
     ]
    }
   ],
   "source": [
    "thislist = [100, 50, 65, 82, 23]\n",
    "thislist.sort(reverse=True)\n",
    "print(thislist)"
   ]
  },
  {
   "cell_type": "code",
   "execution_count": 1,
   "metadata": {},
   "outputs": [
    {
     "name": "stdout",
     "output_type": "stream",
     "text": [
      "[50, 65, 23, 82, 100]\n"
     ]
    }
   ],
   "source": [
    "def myfunc(n):\n",
    "  return abs(n - 50)\n",
    "\n",
    "thislist = [100, 50, 65, 82, 23]\n",
    "thislist.sort(key = myfunc)\n",
    "print(thislist)"
   ]
  },
  {
   "cell_type": "code",
   "execution_count": null,
   "metadata": {},
   "outputs": [],
   "source": []
  }
 ],
 "metadata": {
  "kernelspec": {
   "display_name": "Python 3",
   "language": "python",
   "name": "python3"
  },
  "language_info": {
   "codemirror_mode": {
    "name": "ipython",
    "version": 3
   },
   "file_extension": ".py",
   "mimetype": "text/x-python",
   "name": "python",
   "nbconvert_exporter": "python",
   "pygments_lexer": "ipython3",
   "version": "3.10.12"
  }
 },
 "nbformat": 4,
 "nbformat_minor": 2
}
